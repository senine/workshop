{
 "cells": [
  {
   "cell_type": "markdown",
   "metadata": {},
   "source": [
    "# coding introduction\n",
    "\n",
    "This notebook is intended to be used as a quick intro on jupyter lab and python coding."
   ]
  },
  {
   "cell_type": "markdown",
   "metadata": {},
   "source": [
    "## jupyter notebook\n",
    "\n",
    "- often used for explorative data analysis\n",
    "- brings code and document together and meets reproduciblity need \n",
    "- shortens build-test cycle\n",
    "- not good for production"
   ]
  },
  {
   "cell_type": "markdown",
   "metadata": {},
   "source": [
    "## navigation\n",
    "\n",
    "- interface tour\n",
    "- keyboard shortcut"
   ]
  },
  {
   "cell_type": "markdown",
   "metadata": {},
   "source": [
    "## markdown\n",
    "\n",
    "a way to document along with the code.\n",
    "\n",
    "- [basic doc](https://docs.github.com/en/github/writing-on-github/basic-writing-and-formatting-syntax)\n",
    "- [full doc](https://github.github.com/gfm/)"
   ]
  },
  {
   "cell_type": "markdown",
   "metadata": {},
   "source": [
    "Below are several important things not mentioned.\n",
    "\n",
    "1. to qoute use > sign\n",
    "\n",
    "> this is a qoute\n",
    ">> this is a nested qoute\n",
    "\n",
    "2. preformatted. just use normal (2+) indentation and structure will be preserved. other format will not be evaluated.\n",
    "\n",
    "        The _quick_ **brown** fox \n",
    "            jumps over the \n",
    "                lazy dog [link](test)\n",
    "\n",
    "\n",
    "3. code highlighting. useful when need to refer to part of code while documenting. [full list of supported languages](https://github.com/github/linguist/blob/master/lib/linguist/languages.yml)\n",
    "\n",
    "\n",
    "    below are code chuncks to print hello world in python, r and sas\n",
    "\n",
    "- __python__\n",
    "\n",
    "```python\n",
    "print(\"hello world\")\n",
    "```\n",
    "\n",
    "- __r__\n",
    "\n",
    "```r\n",
    "print(\"Hello World!\")\n",
    "```\n",
    "\n",
    "- __sas__\n",
    "\n",
    "```sas\n",
    "/*code chunck copied from https://blogs.sas.com/content/iml/2010/09/03/hello-world.html*/\n",
    "\n",
    "proc iml;\n",
    "msg = {\"Hello\", \"World!\"};\n",
    "print msg;\n",
    "\n",
    "```\n",
    "\n",
    "    can be used in qoute as well.\n",
    "\n",
    ">```sas\n",
    "/*code chunck copied from https://blogs.sas.com/content/iml/2010/09/03/hello-world.html*/\n",
    "proc iml;\n",
    "msg = {\"Hello\", \"World!\"};\n",
    "print msg;\n",
    "```\n",
    "\n",
    "also come handy when need to show sturcture of dict or json files\n",
    "\n",
    "```json\n",
    "# example from https://en.wikipedia.org/wiki/JSON\n",
    "\n",
    "{\n",
    "  \"firstName\": \"John\",\n",
    "  \"lastName\": \"Smith\",\n",
    "  \"isAlive\": true,\n",
    "  \"age\": 27,\n",
    "  \"address\": {\n",
    "    \"streetAddress\": \"21 2nd Street\",\n",
    "    \"city\": \"New York\",\n",
    "    \"state\": \"NY\",\n",
    "    \"postalCode\": \"10021-3100\"\n",
    "  },\n",
    "  \"phoneNumbers\": [\n",
    "    {\n",
    "      \"type\": \"home\",\n",
    "      \"number\": \"212 555-1234\"\n",
    "    },\n",
    "    {\n",
    "      \"type\": \"office\",\n",
    "      \"number\": \"646 555-4567\"\n",
    "    }\n",
    "  ],\n",
    "  \"children\": [],\n",
    "  \"spouse\": null\n",
    "}\n",
    "```\n",
    "\n",
    "4. latex formula. needed when need to document math\n",
    "\n",
    "    - inline form $\\sum_iA_i$\n",
    "    - display form $$\\sum_iA_i$$\n",
    "\n",
    "5. image\n",
    "    ![cats](https://selfgrowth.info/photos/free-cats-pictures-without-copyright/free-cats-icons-without-copyright3578.jpg)\n",
    "    - checked already no copyright issues\n"
   ]
  },
  {
   "cell_type": "markdown",
   "metadata": {},
   "source": [
    "## magic functions and command-line operations"
   ]
  },
  {
   "cell_type": "markdown",
   "metadata": {},
   "source": [
    "- line magic start with %, cell magic %%\n",
    "- everything stays in the notebook\n",
    "- see [here](https://askubuntu.com/questions/506510/what-is-the-difference-between-terminal-console-shell-and-command-line) for terminology diff between cli and others"
   ]
  },
  {
   "cell_type": "code",
   "execution_count": 5,
   "metadata": {},
   "outputs": [
    {
     "name": "stdout",
     "output_type": "stream",
     "text": [
      "/home/fzhang/workshop/notebooks\n",
      "Desktop\n",
      "Downloads\n",
      "Untitled1.ipynb\n",
      "anaconda3\n",
      "c\n",
      "venv\n",
      "workshop\n"
     ]
    }
   ],
   "source": [
    "%%bash \n",
    "pwd\n",
    "ls ../.."
   ]
  },
  {
   "cell_type": "code",
   "execution_count": 7,
   "metadata": {},
   "outputs": [
    {
     "name": "stdout",
     "output_type": "stream",
     "text": [
      "/home/fzhang/workshop/notebooks\r\n"
     ]
    }
   ],
   "source": [
    "!pwd"
   ]
  },
  {
   "cell_type": "code",
   "execution_count": 8,
   "metadata": {},
   "outputs": [],
   "source": [
    "loc_string = !pwd"
   ]
  },
  {
   "cell_type": "code",
   "execution_count": 9,
   "metadata": {},
   "outputs": [
    {
     "data": {
      "text/plain": [
       "['/home/fzhang/workshop/notebooks']"
      ]
     },
     "execution_count": 9,
     "metadata": {},
     "output_type": "execute_result"
    }
   ],
   "source": [
    "loc_string"
   ]
  },
  {
   "cell_type": "code",
   "execution_count": 17,
   "metadata": {},
   "outputs": [
    {
     "name": "stdout",
     "output_type": "stream",
     "text": [
      "5.52 ns ± 0.0615 ns per loop (mean ± std. dev. of 7 runs, 100000000 loops each)\n"
     ]
    }
   ],
   "source": [
    "%timeit pass"
   ]
  },
  {
   "cell_type": "code",
   "execution_count": 20,
   "metadata": {},
   "outputs": [
    {
     "name": "stdout",
     "output_type": "stream",
     "text": [
      "5.76 ns ± 0.286 ns per loop (mean ± std. dev. of 7 runs, 100000000 loops each)\n"
     ]
    }
   ],
   "source": [
    "%%timeit\n",
    "pass\n",
    "pass"
   ]
  },
  {
   "cell_type": "code",
   "execution_count": 22,
   "metadata": {},
   "outputs": [],
   "source": [
    "! mkdir example"
   ]
  },
  {
   "cell_type": "code",
   "execution_count": 27,
   "metadata": {},
   "outputs": [
    {
     "name": "stdout",
     "output_type": "stream",
     "text": [
      "Overwriting example/jupyter_chunck.py\n"
     ]
    }
   ],
   "source": [
    "%%writefile example/jupyter_chunck.py\n",
    "\n",
    "sample = 'today is a good day'\n",
    "\n",
    "for word in sample.split(' '):\n",
    "    if word[-3:] == 'day':\n",
    "        print(word)"
   ]
  },
  {
   "cell_type": "code",
   "execution_count": 28,
   "metadata": {},
   "outputs": [
    {
     "name": "stdout",
     "output_type": "stream",
     "text": [
      "Appending to example/jupyter_chunck.py\n"
     ]
    }
   ],
   "source": [
    "%%writefile -a example/jupyter_chunck.py\n",
    "\n",
    "print('this appends to file if exists')"
   ]
  },
  {
   "cell_type": "markdown",
   "metadata": {},
   "source": [
    "## ds workflow and code example (if time allows)\n",
    "\n",
    "- procedural programming\n",
    "    - scripting then modulize"
   ]
  },
  {
   "cell_type": "markdown",
   "metadata": {},
   "source": [
    "code example from https://github.com/senine/nba_boxscore"
   ]
  }
 ],
 "metadata": {
  "kernelspec": {
   "display_name": "Python 3",
   "language": "python",
   "name": "python3"
  },
  "language_info": {
   "codemirror_mode": {
    "name": "ipython",
    "version": 3
   },
   "file_extension": ".py",
   "mimetype": "text/x-python",
   "name": "python",
   "nbconvert_exporter": "python",
   "pygments_lexer": "ipython3",
   "version": "3.8.3"
  }
 },
 "nbformat": 4,
 "nbformat_minor": 2
}
