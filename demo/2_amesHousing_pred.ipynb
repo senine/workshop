{
 "cells": [
  {
   "cell_type": "code",
   "execution_count": 7,
   "metadata": {},
   "outputs": [
    {
     "name": "stdout",
     "output_type": "stream",
     "text": [
      "Requirement already satisfied: category_encoders in c:\\users\\fan\\anaconda3\\lib\\site-packages (2.2.2)\n",
      "Collecting xgboost\n",
      "  Downloading xgboost-1.2.0-py3-none-win_amd64.whl (86.5 MB)\n",
      "Requirement already satisfied: patsy>=0.5.1 in c:\\users\\fan\\anaconda3\\lib\\site-packages (from category_encoders) (0.5.1)\n",
      "Requirement already satisfied: scikit-learn>=0.20.0 in c:\\users\\fan\\anaconda3\\lib\\site-packages (from category_encoders) (0.23.1)\n",
      "Requirement already satisfied: numpy>=1.14.0 in c:\\users\\fan\\anaconda3\\lib\\site-packages (from category_encoders) (1.18.5)\n",
      "Requirement already satisfied: statsmodels>=0.9.0 in c:\\users\\fan\\anaconda3\\lib\\site-packages (from category_encoders) (0.11.1)\n",
      "Requirement already satisfied: scipy>=1.0.0 in c:\\users\\fan\\anaconda3\\lib\\site-packages (from category_encoders) (1.5.0)\n",
      "Requirement already satisfied: pandas>=0.21.1 in c:\\users\\fan\\anaconda3\\lib\\site-packages (from category_encoders) (1.1.2)\n",
      "Requirement already satisfied: six in c:\\users\\fan\\anaconda3\\lib\\site-packages (from patsy>=0.5.1->category_encoders) (1.15.0)\n",
      "Requirement already satisfied: threadpoolctl>=2.0.0 in c:\\users\\fan\\anaconda3\\lib\\site-packages (from scikit-learn>=0.20.0->category_encoders) (2.1.0)\n",
      "Requirement already satisfied: joblib>=0.11 in c:\\users\\fan\\anaconda3\\lib\\site-packages (from scikit-learn>=0.20.0->category_encoders) (0.16.0)\n",
      "Requirement already satisfied: pytz>=2017.2 in c:\\users\\fan\\anaconda3\\lib\\site-packages (from pandas>=0.21.1->category_encoders) (2020.1)\n",
      "Requirement already satisfied: python-dateutil>=2.7.3 in c:\\users\\fan\\anaconda3\\lib\\site-packages (from pandas>=0.21.1->category_encoders) (2.8.1)\n",
      "Installing collected packages: xgboost\n",
      "Successfully installed xgboost-1.2.0\n"
     ]
    }
   ],
   "source": [
    "!pip install category_encoders xgboost"
   ]
  },
  {
   "cell_type": "code",
   "execution_count": 23,
   "metadata": {},
   "outputs": [],
   "source": [
    "import numpy as np\n",
    "import pandas as pd\n",
    "\n",
    "from sklearn.model_selection import train_test_split\n",
    "from sklearn.preprocessing import StandardScaler\n",
    "from sklearn.metrics import mean_squared_error\n",
    "\n",
    "import category_encoders as ce\n",
    "from xgboost import XGBRegressor\n",
    "\n",
    "import joblib"
   ]
  },
  {
   "cell_type": "code",
   "execution_count": 10,
   "metadata": {},
   "outputs": [],
   "source": [
    "data = pd.read_csv('../data/house-prices-advanced-regression-techniques/train.csv')\n",
    "submit = pd.read_csv('../data/house-prices-advanced-regression-techniques/test.csv')"
   ]
  },
  {
   "cell_type": "code",
   "execution_count": 11,
   "metadata": {},
   "outputs": [],
   "source": [
    "X_train, X_test, y_train, y_test = train_test_split(data.drop('SalePrice', axis=1), data.SalePrice.values, test_size=.2, random_state=233)"
   ]
  },
  {
   "cell_type": "code",
   "execution_count": 14,
   "metadata": {},
   "outputs": [],
   "source": [
    "def feature_list(df, exclude, value_threshold):\n",
    "    cat = []\n",
    "    quant = []\n",
    "\n",
    "    for i in df.columns:\n",
    "        if i not in exclude:\n",
    "            if df[i].dtype == 'O' or df[i].nunique() <= value_threshold:\n",
    "                cat.append(i)\n",
    "            else:\n",
    "                quant.append(i)\n",
    "\n",
    "    return cat, quant"
   ]
  },
  {
   "cell_type": "code",
   "execution_count": 15,
   "metadata": {},
   "outputs": [],
   "source": [
    "cat, quant = feature_list(data, exclude=('SalePrice','Id'), value_threshold=16)"
   ]
  },
  {
   "cell_type": "code",
   "execution_count": 17,
   "metadata": {},
   "outputs": [],
   "source": [
    "#[preprocessing training set]\n",
    "\n",
    "cbe = ce.CatBoostEncoder(random_state=1)\n",
    "X_train_cat_encoded = cbe.fit_transform(X_train[cat],y_train)"
   ]
  },
  {
   "cell_type": "code",
   "execution_count": 18,
   "metadata": {},
   "outputs": [],
   "source": [
    "X_train_encoded = pd.concat([X_train[quant],X_train_cat_encoded],axis=1)"
   ]
  },
  {
   "cell_type": "code",
   "execution_count": 24,
   "metadata": {},
   "outputs": [],
   "source": [
    "ss = StandardScaler()\n",
    "X_train_normed = ss.fit_transform(X_train_encoded)"
   ]
  },
  {
   "cell_type": "code",
   "execution_count": 30,
   "metadata": {},
   "outputs": [
    {
     "data": {
      "text/plain": [
       "['../model/ss.joblib']"
      ]
     },
     "execution_count": 30,
     "metadata": {},
     "output_type": "execute_result"
    }
   ],
   "source": [
    "joblib.dump(cbe,'../model/cbe.joblib')\n",
    "joblib.dump(ss,'../model/ss.joblib')"
   ]
  },
  {
   "cell_type": "code",
   "execution_count": 47,
   "metadata": {},
   "outputs": [],
   "source": [
    "def preprocessing(X):\n",
    "    ''''''\n",
    "    X_cat_encoded = cbe.transform(X[cat])\n",
    "    X_encoded = pd.concat([X[quant],X_cat_encoded],axis=1)\n",
    "    \n",
    "    X_normed = ss.transform(X_encoded)\n",
    "    \n",
    "    return X_normed"
   ]
  },
  {
   "cell_type": "code",
   "execution_count": 41,
   "metadata": {},
   "outputs": [],
   "source": [
    "#[fitting model]\n",
    "\n",
    "xgb_rgr = XGBRegressor(n_estimators=100000,max_depth=7,random_state=555)"
   ]
  },
  {
   "cell_type": "code",
   "execution_count": 51,
   "metadata": {},
   "outputs": [
    {
     "name": "stdout",
     "output_type": "stream",
     "text": [
      "[0]\tvalidation_0-rmsle:1.21681\n",
      "Will train until validation_0-rmsle hasn't improved in 10 rounds.\n",
      "[1]\tvalidation_0-rmsle:0.69832\n",
      "[2]\tvalidation_0-rmsle:0.45330\n",
      "[3]\tvalidation_0-rmsle:0.31723\n",
      "[4]\tvalidation_0-rmsle:0.23724\n",
      "[5]\tvalidation_0-rmsle:0.19195\n",
      "[6]\tvalidation_0-rmsle:0.16788\n",
      "[7]\tvalidation_0-rmsle:0.15295\n",
      "[8]\tvalidation_0-rmsle:0.14500\n",
      "[9]\tvalidation_0-rmsle:0.14052\n",
      "[10]\tvalidation_0-rmsle:0.13754\n",
      "[11]\tvalidation_0-rmsle:0.13600\n",
      "[12]\tvalidation_0-rmsle:0.13514\n",
      "[13]\tvalidation_0-rmsle:0.13497\n",
      "[14]\tvalidation_0-rmsle:0.13415\n",
      "[15]\tvalidation_0-rmsle:0.13396\n",
      "[16]\tvalidation_0-rmsle:0.13373\n",
      "[17]\tvalidation_0-rmsle:0.13374\n",
      "[18]\tvalidation_0-rmsle:0.13373\n",
      "[19]\tvalidation_0-rmsle:0.13336\n",
      "[20]\tvalidation_0-rmsle:0.13330\n",
      "[21]\tvalidation_0-rmsle:0.13357\n",
      "[22]\tvalidation_0-rmsle:0.13364\n",
      "[23]\tvalidation_0-rmsle:0.13346\n",
      "[24]\tvalidation_0-rmsle:0.13367\n",
      "[25]\tvalidation_0-rmsle:0.13359\n",
      "[26]\tvalidation_0-rmsle:0.13366\n",
      "[27]\tvalidation_0-rmsle:0.13370\n",
      "[28]\tvalidation_0-rmsle:0.13380\n",
      "[29]\tvalidation_0-rmsle:0.13388\n",
      "[30]\tvalidation_0-rmsle:0.13392\n",
      "Stopping. Best iteration:\n",
      "[20]\tvalidation_0-rmsle:0.13330\n",
      "\n"
     ]
    },
    {
     "data": {
      "text/plain": [
       "XGBRegressor(base_score=0.5, booster='gbtree', colsample_bylevel=1,\n",
       "             colsample_bynode=1, colsample_bytree=1, gamma=0, gpu_id=-1,\n",
       "             importance_type='gain', interaction_constraints='',\n",
       "             learning_rate=0.300000012, max_delta_step=0, max_depth=7,\n",
       "             min_child_weight=1, missing=nan, monotone_constraints='()',\n",
       "             n_estimators=100000, n_jobs=0, num_parallel_tree=1,\n",
       "             random_state=555, reg_alpha=0, reg_lambda=1, scale_pos_weight=1,\n",
       "             subsample=1, tree_method='exact', validate_parameters=1,\n",
       "             verbosity=None)"
      ]
     },
     "execution_count": 51,
     "metadata": {},
     "output_type": "execute_result"
    }
   ],
   "source": [
    "xgb_rgr.fit(X_train_normed, y_train,eval_set=[(preprocessing(X_test),y_test)],eval_metric='rmsle',early_stopping_rounds=10)"
   ]
  },
  {
   "cell_type": "code",
   "execution_count": 53,
   "metadata": {},
   "outputs": [
    {
     "data": {
      "text/plain": [
       "['../model/xgb_rgr.joblib']"
      ]
     },
     "execution_count": 53,
     "metadata": {},
     "output_type": "execute_result"
    }
   ],
   "source": [
    "joblib.dump(xgb_rgr,'../model/xgb_rgr.joblib')"
   ]
  },
  {
   "cell_type": "code",
   "execution_count": 56,
   "metadata": {},
   "outputs": [],
   "source": [
    "score = pd.DataFrame({'Id': submit.Id.values, \n",
    "                      'SalePrice': xgb_rgr.predict(preprocessing(submit))\n",
    "                     })"
   ]
  },
  {
   "cell_type": "code",
   "execution_count": 58,
   "metadata": {},
   "outputs": [],
   "source": [
    "score.to_csv('../data/submit.csv',index=False)"
   ]
  }
 ],
 "metadata": {
  "kernelspec": {
   "display_name": "Python 3",
   "language": "python",
   "name": "python3"
  },
  "language_info": {
   "codemirror_mode": {
    "name": "ipython",
    "version": 3
   },
   "file_extension": ".py",
   "mimetype": "text/x-python",
   "name": "python",
   "nbconvert_exporter": "python",
   "pygments_lexer": "ipython3",
   "version": "3.8.3"
  }
 },
 "nbformat": 4,
 "nbformat_minor": 4
}
